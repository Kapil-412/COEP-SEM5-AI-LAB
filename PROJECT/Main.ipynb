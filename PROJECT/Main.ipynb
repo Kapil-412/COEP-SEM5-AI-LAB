{
 "cells": [
  {
   "cell_type": "code",
   "execution_count": 1,
   "metadata": {},
   "outputs": [],
   "source": [
    "import cv2\n",
    "import os\n"
   ]
  },
  {
   "cell_type": "code",
   "execution_count": null,
   "metadata": {},
   "outputs": [],
   "source": [
    "def preprocess_images(folder_path, target_size=(100, 100)):\n",
    "    images = []\n",
    "    labels = []\n",
    "    for label, sub_folder in enumerate(os.listdir(folder_path)):\n",
    "        sub_folder_path = os.path.join(folder_path, sub_folder)\n",
    "        for image_file in os.listdir(sub_folder_path):\n",
    "            image_path = os.path.join(sub_folder_path, image_file)\n",
    "            image = cv2.imread(image_path, cv2.IMREAD_GRAYSCALE)\n",
    "            image = cv2.resize(image, target_size)\n",
    "            images.append(image)\n",
    "            labels.append(label)\n",
    "    return images, labels"
   ]
  },
  {
   "cell_type": "code",
   "execution_count": 2,
   "metadata": {},
   "outputs": [
    {
     "ename": "FileNotFoundError",
     "evalue": "[WinError 3] The system cannot find the path specified: 'data'",
     "output_type": "error",
     "traceback": [
      "\u001b[1;31m---------------------------------------------------------------------------\u001b[0m",
      "\u001b[1;31mFileNotFoundError\u001b[0m                         Traceback (most recent call last)",
      "\u001b[1;32md:\\COEP-COMP\\SEM 5 VG\\COEP-SEM5-AI-LAB\\PROJECT\\Main.ipynb Cell 2\u001b[0m line \u001b[0;36m6\n\u001b[0;32m      <a href='vscode-notebook-cell:/d%3A/COEP-COMP/SEM%205%20VG/COEP-SEM5-AI-LAB/PROJECT/Main.ipynb#W1sZmlsZQ%3D%3D?line=2'>3</a>\u001b[0m \u001b[39mfrom\u001b[39;00m \u001b[39msklearn\u001b[39;00m\u001b[39m.\u001b[39;00m\u001b[39mmetrics\u001b[39;00m \u001b[39mimport\u001b[39;00m accuracy_score\n\u001b[0;32m      <a href='vscode-notebook-cell:/d%3A/COEP-COMP/SEM%205%20VG/COEP-SEM5-AI-LAB/PROJECT/Main.ipynb#W1sZmlsZQ%3D%3D?line=4'>5</a>\u001b[0m \u001b[39m# Load and preprocess data\u001b[39;00m\n\u001b[1;32m----> <a href='vscode-notebook-cell:/d%3A/COEP-COMP/SEM%205%20VG/COEP-SEM5-AI-LAB/PROJECT/Main.ipynb#W1sZmlsZQ%3D%3D?line=5'>6</a>\u001b[0m images, labels \u001b[39m=\u001b[39m preprocess_images(\u001b[39m'\u001b[39;49m\u001b[39mdata\u001b[39;49m\u001b[39m'\u001b[39;49m)\n\u001b[0;32m      <a href='vscode-notebook-cell:/d%3A/COEP-COMP/SEM%205%20VG/COEP-SEM5-AI-LAB/PROJECT/Main.ipynb#W1sZmlsZQ%3D%3D?line=7'>8</a>\u001b[0m \u001b[39m# Split data into training and testing sets\u001b[39;00m\n\u001b[0;32m      <a href='vscode-notebook-cell:/d%3A/COEP-COMP/SEM%205%20VG/COEP-SEM5-AI-LAB/PROJECT/Main.ipynb#W1sZmlsZQ%3D%3D?line=8'>9</a>\u001b[0m X_train, X_test, y_train, y_test \u001b[39m=\u001b[39m train_test_split(images, labels, test_size\u001b[39m=\u001b[39m\u001b[39m0.2\u001b[39m, random_state\u001b[39m=\u001b[39m\u001b[39m42\u001b[39m)\n",
      "\u001b[1;32md:\\COEP-COMP\\SEM 5 VG\\COEP-SEM5-AI-LAB\\PROJECT\\Main.ipynb Cell 2\u001b[0m line \u001b[0;36m7\n\u001b[0;32m      <a href='vscode-notebook-cell:/d%3A/COEP-COMP/SEM%205%20VG/COEP-SEM5-AI-LAB/PROJECT/Main.ipynb#W1sZmlsZQ%3D%3D?line=4'>5</a>\u001b[0m images \u001b[39m=\u001b[39m []\n\u001b[0;32m      <a href='vscode-notebook-cell:/d%3A/COEP-COMP/SEM%205%20VG/COEP-SEM5-AI-LAB/PROJECT/Main.ipynb#W1sZmlsZQ%3D%3D?line=5'>6</a>\u001b[0m labels \u001b[39m=\u001b[39m []\n\u001b[1;32m----> <a href='vscode-notebook-cell:/d%3A/COEP-COMP/SEM%205%20VG/COEP-SEM5-AI-LAB/PROJECT/Main.ipynb#W1sZmlsZQ%3D%3D?line=6'>7</a>\u001b[0m \u001b[39mfor\u001b[39;00m label, sub_folder \u001b[39min\u001b[39;00m \u001b[39menumerate\u001b[39m(os\u001b[39m.\u001b[39;49mlistdir(folder_path)):\n\u001b[0;32m      <a href='vscode-notebook-cell:/d%3A/COEP-COMP/SEM%205%20VG/COEP-SEM5-AI-LAB/PROJECT/Main.ipynb#W1sZmlsZQ%3D%3D?line=7'>8</a>\u001b[0m     sub_folder_path \u001b[39m=\u001b[39m os\u001b[39m.\u001b[39mpath\u001b[39m.\u001b[39mjoin(folder_path, sub_folder)\n\u001b[0;32m      <a href='vscode-notebook-cell:/d%3A/COEP-COMP/SEM%205%20VG/COEP-SEM5-AI-LAB/PROJECT/Main.ipynb#W1sZmlsZQ%3D%3D?line=8'>9</a>\u001b[0m     \u001b[39mfor\u001b[39;00m image_file \u001b[39min\u001b[39;00m os\u001b[39m.\u001b[39mlistdir(sub_folder_path):\n",
      "\u001b[1;31mFileNotFoundError\u001b[0m: [WinError 3] The system cannot find the path specified: 'data'"
     ]
    }
   ],
   "source": [
    "from sklearn.model_selection import train_test_split\n",
    "from sklearn.svm import SVC\n",
    "from sklearn.metrics import accuracy_score\n",
    "\n",
    "# Load and preprocess data\n",
    "images, labels = preprocess_images('data')\n",
    "\n",
    "# Split data into training and testing sets\n",
    "X_train, X_test, y_train, y_test = train_test_split(images, labels, test_size=0.2, random_state=42)\n",
    "\n",
    "# Create and train the SVM model\n",
    "svm_model = SVC(kernel='linear')\n",
    "svm_model.fit(X_train, y_train)\n",
    "\n",
    "# Predict on test data\n",
    "predictions = svm_model.predict(X_test)\n",
    "\n",
    "# Calculate accuracy\n",
    "accuracy = accuracy_score(y_test, predictions)\n",
    "print(\"Accuracy:\", accuracy)\n"
   ]
  }
 ],
 "metadata": {
  "kernelspec": {
   "display_name": "Python 3",
   "language": "python",
   "name": "python3"
  },
  "language_info": {
   "codemirror_mode": {
    "name": "ipython",
    "version": 3
   },
   "file_extension": ".py",
   "mimetype": "text/x-python",
   "name": "python",
   "nbconvert_exporter": "python",
   "pygments_lexer": "ipython3",
   "version": "3.11.5"
  }
 },
 "nbformat": 4,
 "nbformat_minor": 2
}
